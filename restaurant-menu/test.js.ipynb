{
 "cells": [
  {
   "cell_type": "code",
   "execution_count": null,
   "metadata": {},
   "outputs": [
    {
     "name": "stdout",
     "output_type": "stream",
     "text": [
      "10\n",
      "2\n"
     ]
    }
   ],
   "source": [
    "let orders = {\n",
    "  'Masala Dosa': 2,\n",
    "  Samosa: 10,\n",
    "};\n",
    "\n",
    "console.log(order.Samosa);\n",
    "console.log(order['Masala Dosa']);\n"
   ]
  },
  {
   "cell_type": "code",
   "execution_count": 45,
   "metadata": {},
   "outputs": [
    {
     "name": "stdout",
     "output_type": "stream",
     "text": [
      "Masala Dosa 2\n",
      "Samosa 10\n"
     ]
    }
   ],
   "source": [
    "for (let key in orders) {\n",
    "  console.log(key, orders[key]);\n",
    "}\n"
   ]
  },
  {
   "cell_type": "code",
   "execution_count": 39,
   "metadata": {},
   "outputs": [
    {
     "name": "stdout",
     "output_type": "stream",
     "text": [
      "some text\n",
      "10000\n"
     ]
    }
   ],
   "source": [
    "let student = {\n",
    "  name: 'rahul',\n",
    "  age: 22,\n",
    "  salary: 10000,\n",
    "  key: 'some text',\n",
    "};\n",
    "\n",
    "let key = 'salary';\n",
    "\n",
    "console.log(student.key);\n",
    "console.log(student[key]);\n"
   ]
  },
  {
   "cell_type": "code",
   "execution_count": 24,
   "metadata": {},
   "outputs": [
    {
     "name": "stdout",
     "output_type": "stream",
     "text": [
      "some random value\n",
      "blue\n"
     ]
    }
   ],
   "source": [
    "let car = {\n",
    "  color: 'blue',\n",
    "  model: 'xylo',\n",
    "  white: 'some random value',\n",
    "};\n",
    "\n",
    "let color = 'white';\n",
    "\n",
    "console.log(car[color]);\n",
    "console.log(car.color);\n"
   ]
  },
  {
   "cell_type": "code",
   "execution_count": 32,
   "metadata": {},
   "outputs": [
    {
     "name": "stdout",
     "output_type": "stream",
     "text": [
      "rahul is a good boy\n"
     ]
    }
   ],
   "source": [
    "let rahul = 'SOME TEXT SAYS RAHUL';\n",
    "let is = 'SOME TEXT SAYS IS';\n",
    "let a = 'SOME TEXT SAYS A';\n",
    "let good = 'SOME TEXT SAYS GOOD';\n",
    "let boy = 'SOME TEXT SAYS BOY';\n",
    "\n",
    "console.log('rahul is a good boy');\n"
   ]
  },
  {
   "cell_type": "code",
   "execution_count": 46,
   "metadata": {},
   "outputs": [
    {
     "name": "stdout",
     "output_type": "stream",
     "text": [
      "blue\n"
     ]
    }
   ],
   "source": [
    "let car = {\n",
    "  color: 'blue',\n",
    "  model: 'xylo',\n",
    "  5: 'good car',\n",
    "};\n",
    "\n",
    "let banana = 'color';\n",
    "\n",
    "console.log(car[banana]);\n"
   ]
  },
  {
   "cell_type": "code",
   "execution_count": 50,
   "metadata": {},
   "outputs": [
    {
     "name": "stdout",
     "output_type": "stream",
     "text": [
      "rahul\n",
      "R A H U L M A U R Y A\n"
     ]
    }
   ],
   "source": [
    "let rahul = 'R A H U L M A U R Y A';\n",
    "\n",
    "console.log('rahul');\n",
    "console.log(rahul);\n"
   ]
  },
  {
   "cell_type": "code",
   "execution_count": 59,
   "metadata": {},
   "outputs": [
    {
     "name": "stdout",
     "output_type": "stream",
     "text": [
      "blue\n",
      "some text here\n"
     ]
    }
   ],
   "source": [
    "let car = {\n",
    "  model: 'xylo',\n",
    "  color: 'blue',\n",
    "  key: 'some text here',\n",
    "};\n",
    "\n",
    "let key = 'color';\n",
    "\n",
    "console.log(car[key]);\n",
    "console.log(car.key);\n"
   ]
  },
  {
   "cell_type": "code",
   "execution_count": 3,
   "metadata": {},
   "outputs": [
    {
     "name": "stdout",
     "output_type": "stream",
     "text": [
      "rahul bought toffee, Rs. 1\n",
      "rahul bought soap, Rs. 10\n"
     ]
    }
   ],
   "source": [
    "let shop = {\n",
    "  soap: 10,\n",
    "  oil: 50,\n",
    "  biscuit: 5,\n",
    "  toffee: 1,\n",
    "};\n",
    "\n",
    "let rahul_basket = ['toffee', 'soap'];\n",
    "\n",
    "for (let item of rahul_basket) {\n",
    "  console.log(`rahul bought ${item}, Rs. ${shop[item]}`);\n",
    "}\n"
   ]
  },
  {
   "cell_type": "code",
   "execution_count": 3,
   "metadata": {},
   "outputs": [
    {
     "name": "stdout",
     "output_type": "stream",
     "text": [
      "Masala Dosa 2\n",
      "Samosa 10\n"
     ]
    }
   ],
   "source": [
    "let orders = {\n",
    "  'Masala Dosa': 2,\n",
    "  Samosa: 10,\n",
    "};\n",
    "\n",
    "for (let item in orders) {\n",
    "  console.log(item, orders[item]);\n",
    "}\n"
   ]
  },
  {
   "cell_type": "code",
   "execution_count": 17,
   "metadata": {},
   "outputs": [
    {
     "name": "stdout",
     "output_type": "stream",
     "text": [
      "{\n",
      "  name: \"Masala Dosa\",\n",
      "  desc: \"Thin, crispy pancake. Spicy potato inside.\",\n",
      "  price: 120,\n",
      "  img: \"Masala Dosa.jpg\"\n",
      "}\n",
      "{\n",
      "  name: \"Palak Paneer\",\n",
      "  desc: \"Green spinach curry. Soft white cheese.\",\n",
      "  price: 200,\n",
      "  img: \"Palak Paneer.jpg\"\n",
      "}\n",
      "{\n",
      "  name: \"Vegetable Biryani\",\n",
      "  desc: \"Spicy rice. Mixed vegetables. Very flavorful.\",\n",
      "  price: 250,\n",
      "  img: \"Vegetable Biryani.jpg\"\n",
      "}\n",
      "{\n",
      "  name: \"Dal Makhani\",\n",
      "  desc: \"Soft black lentils. Cooked slowly. Very rich.\",\n",
      "  price: 180,\n",
      "  img: \"Dal Makhani.jpg\"\n",
      "}\n",
      "{\n",
      "  name: \"Samosa\",\n",
      "  desc: \"Crispy outside. Spicy veggies inside. Triangle shape.\",\n",
      "  price: 50,\n",
      "  img: \"Samosa.jpg\"\n",
      "}\n",
      "{\n",
      "  name: \"Pakora\",\n",
      "  desc: \"Small veggie balls. Fried. Crispy and spicy.\",\n",
      "  price: 60,\n",
      "  img: \"Pakora.jpg\"\n",
      "}\n",
      "{\n",
      "  name: \"Paneer Tikka\",\n",
      "  desc: \"Grilled cheese pieces. Spicy and tangy.\",\n",
      "  price: 150,\n",
      "  img: \"Paneer Tikka.jpg\"\n",
      "}\n",
      "{\n",
      "  name: \"Lassi\",\n",
      "  desc: \"Cold yogurt drink. Sweet or salty.\",\n",
      "  price: 80,\n",
      "  img: \"Lassi.webp\"\n",
      "}\n",
      "{\n",
      "  name: \"Masala Chai\",\n",
      "  desc: \"Spiced tea with milk. Hot and sweet.\",\n",
      "  price: 40,\n",
      "  img: \"Masala Chai.jpeg\"\n",
      "}\n",
      "{\n",
      "  name: \"Mango Shake\",\n",
      "  desc: \"Sweet mango drink. Smooth. Very tasty.\",\n",
      "  price: 100,\n",
      "  img: \"Mango Shake.jpg\"\n",
      "}\n"
     ]
    }
   ],
   "source": [
    "let dishes = [\n",
    "  {\n",
    "    name: 'Masala Dosa',\n",
    "    desc: 'Thin, crispy pancake. Spicy potato inside.',\n",
    "    price: 120,\n",
    "    img: 'Masala Dosa.jpg',\n",
    "  },\n",
    "  {\n",
    "    name: 'Palak Paneer',\n",
    "    desc: 'Green spinach curry. Soft white cheese.',\n",
    "    price: 200,\n",
    "    img: 'Palak Paneer.jpg',\n",
    "  },\n",
    "  {\n",
    "    name: 'Vegetable Biryani',\n",
    "    desc: 'Spicy rice. Mixed vegetables. Very flavorful.',\n",
    "    price: 250,\n",
    "    img: 'Vegetable Biryani.jpg',\n",
    "  },\n",
    "  {\n",
    "    name: 'Dal Makhani',\n",
    "    desc: 'Soft black lentils. Cooked slowly. Very rich.',\n",
    "    price: 180,\n",
    "    img: 'Dal Makhani.jpg',\n",
    "  },\n",
    "  {\n",
    "    name: 'Samosa',\n",
    "    desc: 'Crispy outside. Spicy veggies inside. Triangle shape.',\n",
    "    price: 50,\n",
    "    img: 'Samosa.jpg',\n",
    "  },\n",
    "  {\n",
    "    name: 'Pakora',\n",
    "    desc: 'Small veggie balls. Fried. Crispy and spicy.',\n",
    "    price: 60,\n",
    "    img: 'Pakora.jpg',\n",
    "  },\n",
    "  {\n",
    "    name: 'Paneer Tikka',\n",
    "    desc: 'Grilled cheese pieces. Spicy and tangy.',\n",
    "    price: 150,\n",
    "    img: 'Paneer Tikka.jpg',\n",
    "  },\n",
    "  {\n",
    "    name: 'Lassi',\n",
    "    desc: 'Cold yogurt drink. Sweet or salty.',\n",
    "    price: 80,\n",
    "    img: 'Lassi.webp',\n",
    "  },\n",
    "  {\n",
    "    name: 'Masala Chai',\n",
    "    desc: 'Spiced tea with milk. Hot and sweet.',\n",
    "    price: 40,\n",
    "    img: 'Masala Chai.jpeg',\n",
    "  },\n",
    "  {\n",
    "    name: 'Mango Shake',\n",
    "    desc: 'Sweet mango drink. Smooth. Very tasty.',\n",
    "    price: 100,\n",
    "    img: 'Mango Shake.jpg',\n",
    "  },\n",
    "];\n",
    "\n",
    "let item = 'Samosa';\n",
    "\n",
    "// for (let dish in dishes) {\n",
    "// }\n",
    "\n",
    "for (let dish of dishes) {\n",
    "  console.log(dish);\n",
    "}\n"
   ]
  },
  {
   "cell_type": "code",
   "execution_count": 6,
   "metadata": {},
   "outputs": [
    {
     "name": "stdout",
     "output_type": "stream",
     "text": [
      "{\n",
      "  name: \"Samosa\",\n",
      "  desc: \"Crispy outside. Spicy veggies inside. Triangle shape.\",\n",
      "  price: 50,\n",
      "  img: \"Samosa.jpg\"\n",
      "}\n"
     ]
    }
   ],
   "source": [
    "console.log({\n",
    "  name: 'Samosa',\n",
    "  desc: 'Crispy outside. Spicy veggies inside. Triangle shape.',\n",
    "  price: 50,\n",
    "  img: 'Samosa.jpg',\n",
    "});\n"
   ]
  },
  {
   "cell_type": "code",
   "execution_count": 56,
   "metadata": {},
   "outputs": [
    {
     "name": "stdout",
     "output_type": "stream",
     "text": [
      "100\n"
     ]
    }
   ],
   "source": [
    "let dishes = [\n",
    "  {\n",
    "    name: 'Masala Dosa',\n",
    "    desc: 'Thin, crispy pancake. Spicy potato inside.',\n",
    "    price: 120,\n",
    "    img: 'Masala Dosa.jpg',\n",
    "  },\n",
    "  {\n",
    "    name: 'Palak Paneer',\n",
    "    desc: 'Green spinach curry. Soft white cheese.',\n",
    "    price: 200,\n",
    "    img: 'Palak Paneer.jpg',\n",
    "  },\n",
    "  {\n",
    "    name: 'Vegetable Biryani',\n",
    "    desc: 'Spicy rice. Mixed vegetables. Very flavorful.',\n",
    "    price: 250,\n",
    "    img: 'Vegetable Biryani.jpg',\n",
    "  },\n",
    "  {\n",
    "    name: 'Dal Makhani',\n",
    "    desc: 'Soft black lentils. Cooked slowly. Very rich.',\n",
    "    price: 180,\n",
    "    img: 'Dal Makhani.jpg',\n",
    "  },\n",
    "  {\n",
    "    name: 'Samosa',\n",
    "    desc: 'Crispy outside. Spicy veggies inside. Triangle shape.',\n",
    "    price: 50,\n",
    "    img: 'Samosa.jpg',\n",
    "  },\n",
    "  {\n",
    "    name: 'Pakora',\n",
    "    desc: 'Small veggie balls. Fried. Crispy and spicy.',\n",
    "    price: 60,\n",
    "    img: 'Pakora.jpg',\n",
    "  },\n",
    "  {\n",
    "    name: 'Paneer Tikka',\n",
    "    desc: 'Grilled cheese pieces. Spicy and tangy.',\n",
    "    price: 150,\n",
    "    img: 'Paneer Tikka.jpg',\n",
    "  },\n",
    "  {\n",
    "    name: 'Lassi',\n",
    "    desc: 'Cold yogurt drink. Sweet or salty.',\n",
    "    price: 80,\n",
    "    img: 'Lassi.webp',\n",
    "  },\n",
    "  {\n",
    "    name: 'Masala Chai',\n",
    "    desc: 'Spiced tea with milk. Hot and sweet.',\n",
    "    price: 40,\n",
    "    img: 'Masala Chai.jpeg',\n",
    "  },\n",
    "  {\n",
    "    name: 'Mango Shake',\n",
    "    desc: 'Sweet mango drink. Smooth. Very tasty.',\n",
    "    price: 100,\n",
    "    img: 'Mango Shake.jpg',\n",
    "  },\n",
    "];\n",
    "\n",
    "let item = 'Mango Shake';\n",
    "\n",
    "for (let dish of dishes) {\n",
    "  if (dish.name == item) {\n",
    "    console.log(dish.price);\n",
    "  }\n",
    "}\n"
   ]
  },
  {
   "cell_type": "code",
   "execution_count": 75,
   "metadata": {},
   "outputs": [
    {
     "name": "stdout",
     "output_type": "stream",
     "text": [
      "Masala Dosa 2 120\n",
      "Samosa 10 50\n",
      "Mango Shake 7 100\n"
     ]
    }
   ],
   "source": [
    "let orders = {\n",
    "  'Masala Dosa': 2,\n",
    "  Samosa: 10,\n",
    "  'Mango Shake': 7,\n",
    "};\n",
    "\n",
    "for (let order in orders) {\n",
    "  let qty = orders[order];\n",
    "  let dish = null;\n",
    "  for (let d of dishes) {\n",
    "    if (d.name == order) {\n",
    "      dish = d;\n",
    "    }\n",
    "  }\n",
    "  console.log(order, qty, dish.price);\n",
    "}\n"
   ]
  },
  {
   "cell_type": "code",
   "execution_count": 8,
   "metadata": {},
   "outputs": [
    {
     "data": {
      "text/plain": [
       "{\n",
       "  name: \u001b[32m\"Mango Shake\"\u001b[39m,\n",
       "  desc: \u001b[32m\"Sweet mango drink. Smooth. Very tasty.\"\u001b[39m,\n",
       "  price: \u001b[33m100\u001b[39m,\n",
       "  img: \u001b[32m\"Mango Shake.jpg\"\u001b[39m\n",
       "}"
      ]
     },
     "execution_count": 8,
     "metadata": {},
     "output_type": "execute_result"
    }
   ],
   "source": [
    "let dishes = {\n",
    "  'Masala Dosa': {\n",
    "    name: 'Masala Dosa',\n",
    "    desc: 'Thin, crispy pancake. Spicy potato inside.',\n",
    "    price: 120,\n",
    "    img: 'Masala Dosa.jpg',\n",
    "  },\n",
    "  'Palak Paneer': {\n",
    "    name: 'Palak Paneer',\n",
    "    desc: 'Green spinach curry. Soft white cheese.',\n",
    "    price: 200,\n",
    "    img: 'Palak Paneer.jpg',\n",
    "  },\n",
    "  'Vegetable Biryani': {\n",
    "    name: 'Vegetable Biryani',\n",
    "    desc: 'Spicy rice. Mixed vegetables. Very flavorful.',\n",
    "    price: 250,\n",
    "    img: 'Vegetable Biryani.jpg',\n",
    "  },\n",
    "  'Dal Makhani': {\n",
    "    name: 'Dal Makhani',\n",
    "    desc: 'Soft black lentils. Cooked slowly. Very rich.',\n",
    "    price: 180,\n",
    "    img: 'Dal Makhani.jpg',\n",
    "  },\n",
    "  Samosa: {\n",
    "    name: 'Samosa',\n",
    "    desc: 'Crispy outside. Spicy veggies inside. Triangle shape.',\n",
    "    price: 50,\n",
    "    img: 'Samosa.jpg',\n",
    "  },\n",
    "  Pakora: {\n",
    "    name: 'Pakora',\n",
    "    desc: 'Small veggie balls. Fried. Crispy and spicy.',\n",
    "    price: 60,\n",
    "    img: 'Pakora.jpg',\n",
    "  },\n",
    "  'Paneer Tikka': {\n",
    "    name: 'Paneer Tikka',\n",
    "    desc: 'Grilled cheese pieces. Spicy and tangy.',\n",
    "    price: 150,\n",
    "    img: 'Paneer Tikka.jpg',\n",
    "  },\n",
    "  Lassi: {\n",
    "    name: 'Lassi',\n",
    "    desc: 'Cold yogurt drink. Sweet or salty.',\n",
    "    price: 80,\n",
    "    img: 'Lassi.webp',\n",
    "  },\n",
    "  'Masala Chai': {\n",
    "    name: 'Masala Chai',\n",
    "    desc: 'Spiced tea with milk. Hot and sweet.',\n",
    "    price: 40,\n",
    "    img: 'Masala Chai.jpeg',\n",
    "  },\n",
    "  'Mango Shake': {\n",
    "    name: 'Mango Shake',\n",
    "    desc: 'Sweet mango drink. Smooth. Very tasty.',\n",
    "    price: 100,\n",
    "    img: 'Mango Shake.jpg',\n",
    "  },\n",
    "};\n",
    "\n",
    "// console.log(dishes['Samosa']); // this works\n",
    "// console.log(dishes[4]); // undefined\n",
    "\n",
    "dishes['Mango Shake'];\n"
   ]
  },
  {
   "cell_type": "code",
   "execution_count": 2,
   "metadata": {},
   "outputs": [
    {
     "name": "stdout",
     "output_type": "stream",
     "text": [
      "undefined\n",
      "{\n",
      "  name: \"Samosa\",\n",
      "  desc: \"Crispy outside. Spicy veggies inside. Triangle shape.\",\n",
      "  price: 50,\n",
      "  img: \"Samosa.jpg\"\n",
      "}\n"
     ]
    }
   ],
   "source": [
    "let dishes = [\n",
    "  {\n",
    "    name: 'Masala Dosa',\n",
    "    desc: 'Thin, crispy pancake. Spicy potato inside.',\n",
    "    price: 120,\n",
    "    img: 'Masala Dosa.jpg',\n",
    "  },\n",
    "  {\n",
    "    name: 'Palak Paneer',\n",
    "    desc: 'Green spinach curry. Soft white cheese.',\n",
    "    price: 200,\n",
    "    img: 'Palak Paneer.jpg',\n",
    "  },\n",
    "  {\n",
    "    name: 'Vegetable Biryani',\n",
    "    desc: 'Spicy rice. Mixed vegetables. Very flavorful.',\n",
    "    price: 250,\n",
    "    img: 'Vegetable Biryani.jpg',\n",
    "  },\n",
    "  {\n",
    "    name: 'Dal Makhani',\n",
    "    desc: 'Soft black lentils. Cooked slowly. Very rich.',\n",
    "    price: 180,\n",
    "    img: 'Dal Makhani.jpg',\n",
    "  },\n",
    "  {\n",
    "    name: 'Samosa',\n",
    "    desc: 'Crispy outside. Spicy veggies inside. Triangle shape.',\n",
    "    price: 50,\n",
    "    img: 'Samosa.jpg',\n",
    "  },\n",
    "  {\n",
    "    name: 'Pakora',\n",
    "    desc: 'Small veggie balls. Fried. Crispy and spicy.',\n",
    "    price: 60,\n",
    "    img: 'Pakora.jpg',\n",
    "  },\n",
    "  {\n",
    "    name: 'Paneer Tikka',\n",
    "    desc: 'Grilled cheese pieces. Spicy and tangy.',\n",
    "    price: 150,\n",
    "    img: 'Paneer Tikka.jpg',\n",
    "  },\n",
    "  {\n",
    "    name: 'Lassi',\n",
    "    desc: 'Cold yogurt drink. Sweet or salty.',\n",
    "    price: 80,\n",
    "    img: 'Lassi.webp',\n",
    "  },\n",
    "  {\n",
    "    name: 'Masala Chai',\n",
    "    desc: 'Spiced tea with milk. Hot and sweet.',\n",
    "    price: 40,\n",
    "    img: 'Masala Chai.jpeg',\n",
    "  },\n",
    "  {\n",
    "    name: 'Mango Shake',\n",
    "    desc: 'Sweet mango drink. Smooth. Very tasty.',\n",
    "    price: 100,\n",
    "    img: 'Mango Shake.jpg',\n",
    "  },\n",
    "];\n",
    "\n",
    "// for (let dish of dishes) {\n",
    "//   if (dish.name == 'Samosa') {\n",
    "//     console.log(dish);\n",
    "//   }\n",
    "// }\n",
    "\n",
    "console.log(dishes['Samosa']); // undefined\n",
    "console.log(dishes[4]); // this works\n"
   ]
  },
  {
   "cell_type": "code",
   "execution_count": 21,
   "metadata": {},
   "outputs": [],
   "source": [
    "let dishes = [\n",
    "  {\n",
    "    name: 'Masala Dosa',\n",
    "    desc: 'Thin, crispy pancake. Spicy potato inside.',\n",
    "    price: 120,\n",
    "    img: 'Masala Dosa.jpg',\n",
    "  },\n",
    "  {\n",
    "    name: 'Palak Paneer',\n",
    "    desc: 'Green spinach curry. Soft white cheese.',\n",
    "    price: 200,\n",
    "    img: 'Palak Paneer.jpg',\n",
    "  },\n",
    "  {\n",
    "    name: 'Vegetable Biryani',\n",
    "    desc: 'Spicy rice. Mixed vegetables. Very flavorful.',\n",
    "    price: 250,\n",
    "    img: 'Vegetable Biryani.jpg',\n",
    "  },\n",
    "  {\n",
    "    name: 'Dal Makhani',\n",
    "    desc: 'Soft black lentils. Cooked slowly. Very rich.',\n",
    "    price: 180,\n",
    "    img: 'Dal Makhani.jpg',\n",
    "  },\n",
    "  {\n",
    "    name: 'Samosa',\n",
    "    desc: 'Crispy outside. Spicy veggies inside. Triangle shape.',\n",
    "    price: 50,\n",
    "    img: 'Samosa.jpg',\n",
    "  },\n",
    "  {\n",
    "    name: 'Pakora',\n",
    "    desc: 'Small veggie balls. Fried. Crispy and spicy.',\n",
    "    price: 60,\n",
    "    img: 'Pakora.jpg',\n",
    "  },\n",
    "  {\n",
    "    name: 'Paneer Tikka',\n",
    "    desc: 'Grilled cheese pieces. Spicy and tangy.',\n",
    "    price: 150,\n",
    "    img: 'Paneer Tikka.jpg',\n",
    "  },\n",
    "  {\n",
    "    name: 'Lassi',\n",
    "    desc: 'Cold yogurt drink. Sweet or salty.',\n",
    "    price: 80,\n",
    "    img: 'Lassi.webp',\n",
    "  },\n",
    "  {\n",
    "    name: 'Masala Chai',\n",
    "    desc: 'Spiced tea with milk. Hot and sweet.',\n",
    "    price: 40,\n",
    "    img: 'Masala Chai.jpeg',\n",
    "  },\n",
    "  {\n",
    "    name: 'Mango Shake',\n",
    "    desc: 'Sweet mango drink. Smooth. Very tasty.',\n",
    "    price: 100,\n",
    "    img: 'Mango Shake.jpg',\n",
    "  },\n",
    "];\n"
   ]
  },
  {
   "cell_type": "code",
   "execution_count": 22,
   "metadata": {},
   "outputs": [
    {
     "name": "stdout",
     "output_type": "stream",
     "text": [
      "undefined\n",
      "{\n",
      "  name: \"Samosa\",\n",
      "  desc: \"Crispy outside. Spicy veggies inside. Triangle shape.\",\n",
      "  price: 50,\n",
      "  img: \"Samosa.jpg\"\n",
      "}\n"
     ]
    }
   ],
   "source": [
    "console.log(dishes['Samosa']);\n",
    "console.log(dishes[4]);\n"
   ]
  },
  {
   "cell_type": "code",
   "execution_count": 12,
   "metadata": {},
   "outputs": [
    {
     "name": "stdout",
     "output_type": "stream",
     "text": [
      "checking Masala Dosa\n",
      "checking Palak Paneer\n",
      "checking Vegetable Biryani\n",
      "checking Dal Makhani\n",
      "checking Samosa\n",
      "info: Samosa\n",
      "info: Crispy outside. Spicy veggies inside. Triangle shape.\n",
      "info: 50\n"
     ]
    }
   ],
   "source": [
    "let foundDish = null;\n",
    "\n",
    "for (let dish of dishes) {\n",
    "  console.log('checking', dish.name);\n",
    "\n",
    "  if (dish.name === 'Samosa') {\n",
    "    foundDish = dish;\n",
    "    break;\n",
    "  }\n",
    "}\n",
    "\n",
    "console.log('info:', foundDish.name);\n",
    "console.log('info:', foundDish.desc);\n",
    "console.log('info:', foundDish.price);\n"
   ]
  },
  {
   "cell_type": "code",
   "execution_count": 13,
   "metadata": {},
   "outputs": [
    {
     "data": {
      "text/plain": [
       "{\n",
       "  Samosa: { name: \u001b[32m\"Samosa\"\u001b[39m, desc: \u001b[32m\"tasty food\"\u001b[39m, price: \u001b[33m50\u001b[39m },\n",
       "  Pakora: { name: \u001b[32m\"Pakora\"\u001b[39m, desc: \u001b[32m\"crispy stuff, enjoy\"\u001b[39m, price: \u001b[33m20\u001b[39m }\n",
       "}"
      ]
     },
     "execution_count": 13,
     "metadata": {},
     "output_type": "execute_result"
    }
   ],
   "source": [
    "dishes = {\n",
    "  Samosa: {\n",
    "    name: 'Samosa',\n",
    "    desc: 'tasty food',\n",
    "    price: 50,\n",
    "  },\n",
    "  Pakora: {\n",
    "    name: 'Pakora',\n",
    "    desc: 'crispy stuff, enjoy',\n",
    "    price: 20,\n",
    "  },\n",
    "};\n"
   ]
  },
  {
   "cell_type": "code",
   "execution_count": 17,
   "metadata": {},
   "outputs": [
    {
     "data": {
      "text/plain": [
       "\u001b[32m\"tasty food\"\u001b[39m"
      ]
     },
     "execution_count": 17,
     "metadata": {},
     "output_type": "execute_result"
    }
   ],
   "source": [
    "dishes['Samosa'].desc;\n"
   ]
  },
  {
   "cell_type": "code",
   "execution_count": 24,
   "metadata": {},
   "outputs": [
    {
     "name": "stdout",
     "output_type": "stream",
     "text": [
      "{ salary: 20000 }\n"
     ]
    }
   ],
   "source": [
    "let student = {\n",
    "  salary: 10000,\n",
    "};\n",
    "\n",
    "student.salary = 20000;\n",
    "\n",
    "console.log(student);\n"
   ]
  },
  {
   "cell_type": "code",
   "execution_count": 28,
   "metadata": {},
   "outputs": [
    {
     "name": "stdout",
     "output_type": "stream",
     "text": [
      "20000\n",
      "{ salary: 10000 }\n"
     ]
    }
   ],
   "source": [
    "let student = {\n",
    "  salary: 10000,\n",
    "};\n",
    "\n",
    "let salary = student.salary;\n",
    "salary = 20000;\n",
    "\n",
    "console.log(salary);\n",
    "console.log(student);\n"
   ]
  },
  {
   "cell_type": "code",
   "execution_count": 32,
   "metadata": {},
   "outputs": [
    {
     "name": "stdout",
     "output_type": "stream",
     "text": [
      "{\n",
      "  head: { name: \"muskan\", salary: 10000 },\n",
      "  subhead: { name: \"vidu\", salary: 15000 },\n",
      "  budget: 10\n",
      "}\n"
     ]
    }
   ],
   "source": [
    "let event = {\n",
    "  head: { name: 'rahul', salary: 10000 },\n",
    "  subhead: { name: 'vidu', salary: 15000 },\n",
    "  budget: 10,\n",
    "};\n",
    "\n",
    "let head = event.head;\n",
    "head.name = 'muskan';\n",
    "\n",
    "let budget = event.budget;\n",
    "budget = 20;\n",
    "\n",
    "console.log(event);\n"
   ]
  },
  {
   "cell_type": "code",
   "execution_count": 35,
   "metadata": {},
   "outputs": [
    {
     "data": {
      "text/plain": [
       "\u001b[33m0\u001b[39m"
      ]
     },
     "execution_count": 35,
     "metadata": {},
     "output_type": "execute_result"
    }
   ],
   "source": [
    "Object.keys({}).length;\n"
   ]
  },
  {
   "cell_type": "code",
   "execution_count": 39,
   "metadata": {},
   "outputs": [
    {
     "name": "stdout",
     "output_type": "stream",
     "text": [
      "samosa\n",
      "dosa\n"
     ]
    }
   ],
   "source": [
    "let orders = {\n",
    "  samosa: 2,\n",
    "  dosa: 5,\n",
    "};\n",
    "\n",
    "for (let something in orders) {\n",
    "  console.log(something);\n",
    "}\n"
   ]
  }
 ],
 "metadata": {
  "kernelspec": {
   "display_name": "Deno",
   "language": "typescript",
   "name": "deno"
  },
  "language_info": {
   "codemirror_mode": "typescript",
   "file_extension": ".ts",
   "mimetype": "text/x.typescript",
   "name": "typescript",
   "nbconvert_exporter": "script",
   "pygments_lexer": "typescript",
   "version": "5.5.2"
  }
 },
 "nbformat": 4,
 "nbformat_minor": 2
}
